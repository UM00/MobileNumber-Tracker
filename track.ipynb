{
 "cells": [
  {
   "cell_type": "code",
   "execution_count": 66,
   "metadata": {},
   "outputs": [],
   "source": [
    "import phonenumbers\n",
    "from phonenumbers import geocoder\n",
    "import folium\n",
    "from phonenumbers import carrier\n",
    "from opencage.geocoder import OpenCageGeocode\n",
    "import folium.map"
   ]
  },
  {
   "cell_type": "code",
   "execution_count": 67,
   "metadata": {},
   "outputs": [],
   "source": [
    "number = 'Your Phone Number'\n",
    "if not isinstance(number,str):\n",
    "    raise TypeError(\"Not String\")\n",
    "check_number= phonenumbers.parse(number, None)"
   ]
  },
  {
   "cell_type": "code",
   "execution_count": 68,
   "metadata": {},
   "outputs": [],
   "source": [
    "number_location=geocoder.description_for_number(check_number,\"en\")"
   ]
  },
  {
   "cell_type": "code",
   "execution_count": 69,
   "metadata": {},
   "outputs": [],
   "source": [
    "service_provider=phonenumbers.parse(number)"
   ]
  },
  {
   "cell_type": "markdown",
   "metadata": {},
   "source": [
    "OpenCage API Key"
   ]
  },
  {
   "cell_type": "code",
   "execution_count": 70,
   "metadata": {},
   "outputs": [],
   "source": [
    "key=\"Your Open Cage API Key\""
   ]
  },
  {
   "cell_type": "code",
   "execution_count": 71,
   "metadata": {},
   "outputs": [],
   "source": [
    "geocoder=OpenCageGeocode(key)\n",
    "query=str(number_location)\n",
    "results=geocoder.geocode(query)\n",
    "lat=results[0]['geometry']['lat']\n",
    "lng=results[0]['geometry']['lng']"
   ]
  },
  {
   "cell_type": "code",
   "execution_count": 72,
   "metadata": {},
   "outputs": [],
   "source": [
    "import folium\n",
    "import folium.map\n",
    "map_location=folium.Map(location=[lat,lng],zoom_start=9)\n",
    "folium.Marker([lat,lng],popup=number_location).add_to(map_location)\n",
    "map_location.save(\"location.html\")\n"
   ]
  },
  {
   "cell_type": "code",
   "execution_count": 73,
   "metadata": {},
   "outputs": [
    {
     "name": "stdout",
     "output_type": "stream",
     "text": [
      "Pakistan\n",
      "Zong\n",
      "30.3308401 71.247499\n"
     ]
    }
   ],
   "source": [
    "print(number_location)\n",
    "print(carrier.name_for_number(service_provider, \"en\"))\n",
    "print(lat,lng)\n"
   ]
  }
 ],
 "metadata": {
  "kernelspec": {
   "display_name": "myenv",
   "language": "python",
   "name": "python3"
  },
  "language_info": {
   "codemirror_mode": {
    "name": "ipython",
    "version": 3
   },
   "file_extension": ".py",
   "mimetype": "text/x-python",
   "name": "python",
   "nbconvert_exporter": "python",
   "pygments_lexer": "ipython3",
   "version": "3.10.2"
  }
 },
 "nbformat": 4,
 "nbformat_minor": 2
}
